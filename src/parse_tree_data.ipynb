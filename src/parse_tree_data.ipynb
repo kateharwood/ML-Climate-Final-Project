{
 "cells": [
  {
   "cell_type": "code",
   "execution_count": 267,
   "source": [
    "import pandas as pd\n",
    "import csv\n",
    "import numpy as np"
   ],
   "outputs": [],
   "metadata": {}
  },
  {
   "cell_type": "code",
   "execution_count": 268,
   "source": [
    "first_data = pd.read_csv('../../1995_Street_Tree_Census.csv')\n",
    "second_data = pd.read_csv('../../2005_Street_Tree_Census.csv')\n",
    "third_data = pd.read_csv('../../2015_Street_Tree_Census.csv')"
   ],
   "outputs": [
    {
     "output_type": "stream",
     "name": "stderr",
     "text": [
      "/Users/kateharwood/opt/miniconda3/envs/climate/lib/python3.9/site-packages/IPython/core/interactiveshell.py:3185: DtypeWarning: Columns (37) have mixed types.Specify dtype option on import or set low_memory=False.\n",
      "  has_raised = await self.run_ast_nodes(code_ast.body, cell_name,\n"
     ]
    }
   ],
   "metadata": {}
  },
  {
   "cell_type": "code",
   "execution_count": 269,
   "source": [
    "# Extract the columns we care about\n",
    "first_data = first_data[[\"Latitude\", \"Longitude\", \"Borough\", \"Zip Codes\", \"Spc_Latin\", \"Diameter\", \"Condition\"]]\n",
    "second_data = second_data[[\"latitude\", \"longitude\", \"boroname\", \"zipcode\", \"spc_latin\", \"tree_dbh\", \"status\"]]\n",
    "third_data = third_data[[\"latitude\", \"longitude\", \"borough\", \"postcode\", \"spc_latin\", \"tree_dbh\", \"status\", \"health\"]]"
   ],
   "outputs": [],
   "metadata": {}
  },
  {
   "cell_type": "markdown",
   "source": [
    "# Standardize all health statuses across the 2005 and 2015 datasets"
   ],
   "metadata": {}
  },
  {
   "cell_type": "code",
   "execution_count": 270,
   "source": [
    "# first_data\n",
    "# first_data.dtypes\n",
    "first_data.Condition.unique()\n",
    "# first_data.Borough.unique()"
   ],
   "outputs": [
    {
     "output_type": "execute_result",
     "data": {
      "text/plain": [
       "array(['Unknown', 'Good', 'Excellent', 'Poor', 'Dead', 'Stump',\n",
       "       'Planting Space', 'Shaft', 'Fair', 'Critical'], dtype=object)"
      ]
     },
     "metadata": {},
     "execution_count": 270
    }
   ],
   "metadata": {}
  },
  {
   "cell_type": "code",
   "execution_count": 271,
   "source": [
    "# Rename \"Excellent\" to \"Good\", rename \"Good\" to \"Fair\"\n",
    "second_data.status[second_data['status'] == \"Good\"] = \"Fair\"\n",
    "second_data.status[second_data['status'] == \"Excellent\"] = \"Good\"\n",
    "second_data = second_data.rename(columns={\"status\": \"health\"})\n",
    "second_data.health.unique()\n",
    "\n"
   ],
   "outputs": [
    {
     "output_type": "stream",
     "name": "stderr",
     "text": [
      "/var/folders/z7/x5j_gv2x6f92wlfl832cwwy80000gn/T/ipykernel_5205/16073105.py:3: SettingWithCopyWarning: \n",
      "A value is trying to be set on a copy of a slice from a DataFrame\n",
      "\n",
      "See the caveats in the documentation: https://pandas.pydata.org/pandas-docs/stable/user_guide/indexing.html#returning-a-view-versus-a-copy\n",
      "  second_data.status[second_data['status'] == \"Excellent\"] = \"Good\"\n"
     ]
    },
    {
     "output_type": "execute_result",
     "data": {
      "text/plain": [
       "array(['Fair', 'Poor', 'Good', 'Dead'], dtype=object)"
      ]
     },
     "metadata": {},
     "execution_count": 271
    }
   ],
   "metadata": {}
  },
  {
   "cell_type": "code",
   "execution_count": 272,
   "source": [
    "# Set all status to be \"Alive\" or \"Dead\" (remove \"Stump\")\n",
    "third_data.health[(third_data['health'].isna()) & (third_data['status'] != \"Alive\")] = \"Dead\"\n",
    "# Remove the row with status == alive and health is na\n",
    "third_data.drop(third_data[third_data['health'].isna()].index, inplace = True)\n",
    "# Drop extra status column\n",
    "third_data.drop(columns=['status'], inplace=True)\n",
    "third_data.health.unique()\n",
    "\n",
    "# third_data.dtypes\n",
    "# third_data.status.unique()\n",
    "# third_data.borough.unique()\n",
    "# third_data.root_stone\n"
   ],
   "outputs": [
    {
     "output_type": "execute_result",
     "data": {
      "text/plain": [
       "array(['Fair', 'Good', 'Poor', 'Dead'], dtype=object)"
      ]
     },
     "metadata": {},
     "execution_count": 272
    }
   ],
   "metadata": {}
  },
  {
   "cell_type": "code",
   "execution_count": 273,
   "source": [
    "# Make categorical health data numeric\n",
    "health_dict = {'Dead':0, 'Poor':1, 'Fair':2, 'Good':3}\n",
    "second_data['health_status'] = second_data['health'].map(health_dict)\n",
    "third_data['health_status'] = third_data[\"health\"].map(health_dict)\n",
    "second_data"
   ],
   "outputs": [
    {
     "output_type": "execute_result",
     "data": {
      "text/html": [
       "<div>\n",
       "<style scoped>\n",
       "    .dataframe tbody tr th:only-of-type {\n",
       "        vertical-align: middle;\n",
       "    }\n",
       "\n",
       "    .dataframe tbody tr th {\n",
       "        vertical-align: top;\n",
       "    }\n",
       "\n",
       "    .dataframe thead th {\n",
       "        text-align: right;\n",
       "    }\n",
       "</style>\n",
       "<table border=\"1\" class=\"dataframe\">\n",
       "  <thead>\n",
       "    <tr style=\"text-align: right;\">\n",
       "      <th></th>\n",
       "      <th>latitude</th>\n",
       "      <th>longitude</th>\n",
       "      <th>boroname</th>\n",
       "      <th>zipcode</th>\n",
       "      <th>spc_latin</th>\n",
       "      <th>tree_dbh</th>\n",
       "      <th>health</th>\n",
       "      <th>health_status</th>\n",
       "    </tr>\n",
       "  </thead>\n",
       "  <tbody>\n",
       "    <tr>\n",
       "      <th>0</th>\n",
       "      <td>40.632653</td>\n",
       "      <td>-74.000245</td>\n",
       "      <td>Brooklyn</td>\n",
       "      <td>11219</td>\n",
       "      <td>PYRUS CALLERYANA</td>\n",
       "      <td>6</td>\n",
       "      <td>Fair</td>\n",
       "      <td>2</td>\n",
       "    </tr>\n",
       "    <tr>\n",
       "      <th>1</th>\n",
       "      <td>40.620084</td>\n",
       "      <td>-73.901453</td>\n",
       "      <td>Brooklyn</td>\n",
       "      <td>11234</td>\n",
       "      <td>PLATANUS ACERIFOLIA</td>\n",
       "      <td>6</td>\n",
       "      <td>Fair</td>\n",
       "      <td>2</td>\n",
       "    </tr>\n",
       "    <tr>\n",
       "      <th>2</th>\n",
       "      <td>40.617996</td>\n",
       "      <td>-73.899111</td>\n",
       "      <td>Brooklyn</td>\n",
       "      <td>11234</td>\n",
       "      <td>ACER PLATANOIDES          CRIMSON KING</td>\n",
       "      <td>13</td>\n",
       "      <td>Fair</td>\n",
       "      <td>2</td>\n",
       "    </tr>\n",
       "    <tr>\n",
       "      <th>3</th>\n",
       "      <td>40.619694</td>\n",
       "      <td>-73.901003</td>\n",
       "      <td>Brooklyn</td>\n",
       "      <td>11234</td>\n",
       "      <td>PLATANUS ACERIFOLIA</td>\n",
       "      <td>13</td>\n",
       "      <td>Fair</td>\n",
       "      <td>2</td>\n",
       "    </tr>\n",
       "    <tr>\n",
       "      <th>4</th>\n",
       "      <td>40.618323</td>\n",
       "      <td>-73.899467</td>\n",
       "      <td>Brooklyn</td>\n",
       "      <td>11234</td>\n",
       "      <td>PLATANUS ACERIFOLIA</td>\n",
       "      <td>15</td>\n",
       "      <td>Fair</td>\n",
       "      <td>2</td>\n",
       "    </tr>\n",
       "    <tr>\n",
       "      <th>...</th>\n",
       "      <td>...</td>\n",
       "      <td>...</td>\n",
       "      <td>...</td>\n",
       "      <td>...</td>\n",
       "      <td>...</td>\n",
       "      <td>...</td>\n",
       "      <td>...</td>\n",
       "      <td>...</td>\n",
       "    </tr>\n",
       "    <tr>\n",
       "      <th>592367</th>\n",
       "      <td>40.586260</td>\n",
       "      <td>-74.148797</td>\n",
       "      <td>5</td>\n",
       "      <td>10314</td>\n",
       "      <td>PLATANUS ACERIFOLIA</td>\n",
       "      <td>9</td>\n",
       "      <td>Fair</td>\n",
       "      <td>2</td>\n",
       "    </tr>\n",
       "    <tr>\n",
       "      <th>592368</th>\n",
       "      <td>40.586090</td>\n",
       "      <td>-74.149013</td>\n",
       "      <td>5</td>\n",
       "      <td>10314</td>\n",
       "      <td>ACER SACCHARINUM</td>\n",
       "      <td>7</td>\n",
       "      <td>Fair</td>\n",
       "      <td>2</td>\n",
       "    </tr>\n",
       "    <tr>\n",
       "      <th>592369</th>\n",
       "      <td>40.585802</td>\n",
       "      <td>-74.149156</td>\n",
       "      <td>5</td>\n",
       "      <td>10314</td>\n",
       "      <td>ACER PLATANOIDES          CRIMSON KING</td>\n",
       "      <td>5</td>\n",
       "      <td>Fair</td>\n",
       "      <td>2</td>\n",
       "    </tr>\n",
       "    <tr>\n",
       "      <th>592370</th>\n",
       "      <td>40.585802</td>\n",
       "      <td>-74.149156</td>\n",
       "      <td>5</td>\n",
       "      <td>10314</td>\n",
       "      <td>ACER PLATANOIDES          CRIMSON KING</td>\n",
       "      <td>9</td>\n",
       "      <td>Fair</td>\n",
       "      <td>2</td>\n",
       "    </tr>\n",
       "    <tr>\n",
       "      <th>592371</th>\n",
       "      <td>40.585802</td>\n",
       "      <td>-74.149156</td>\n",
       "      <td>5</td>\n",
       "      <td>10314</td>\n",
       "      <td>ACER PLATANOIDES          CRIMSON KING</td>\n",
       "      <td>2</td>\n",
       "      <td>Fair</td>\n",
       "      <td>2</td>\n",
       "    </tr>\n",
       "  </tbody>\n",
       "</table>\n",
       "<p>592372 rows × 8 columns</p>\n",
       "</div>"
      ],
      "text/plain": [
       "         latitude  longitude  boroname  zipcode  \\\n",
       "0       40.632653 -74.000245  Brooklyn    11219   \n",
       "1       40.620084 -73.901453  Brooklyn    11234   \n",
       "2       40.617996 -73.899111  Brooklyn    11234   \n",
       "3       40.619694 -73.901003  Brooklyn    11234   \n",
       "4       40.618323 -73.899467  Brooklyn    11234   \n",
       "...           ...        ...       ...      ...   \n",
       "592367  40.586260 -74.148797         5    10314   \n",
       "592368  40.586090 -74.149013         5    10314   \n",
       "592369  40.585802 -74.149156         5    10314   \n",
       "592370  40.585802 -74.149156         5    10314   \n",
       "592371  40.585802 -74.149156         5    10314   \n",
       "\n",
       "                                     spc_latin  tree_dbh health  health_status  \n",
       "0                             PYRUS CALLERYANA         6   Fair              2  \n",
       "1                          PLATANUS ACERIFOLIA         6   Fair              2  \n",
       "2       ACER PLATANOIDES          CRIMSON KING        13   Fair              2  \n",
       "3                          PLATANUS ACERIFOLIA        13   Fair              2  \n",
       "4                          PLATANUS ACERIFOLIA        15   Fair              2  \n",
       "...                                        ...       ...    ...            ...  \n",
       "592367                     PLATANUS ACERIFOLIA         9   Fair              2  \n",
       "592368                        ACER SACCHARINUM         7   Fair              2  \n",
       "592369  ACER PLATANOIDES          CRIMSON KING         5   Fair              2  \n",
       "592370  ACER PLATANOIDES          CRIMSON KING         9   Fair              2  \n",
       "592371  ACER PLATANOIDES          CRIMSON KING         2   Fair              2  \n",
       "\n",
       "[592372 rows x 8 columns]"
      ]
     },
     "metadata": {},
     "execution_count": 273
    }
   ],
   "metadata": {}
  },
  {
   "cell_type": "markdown",
   "source": [
    "# Standardize feature columns across datasets"
   ],
   "metadata": {}
  },
  {
   "cell_type": "code",
   "execution_count": 274,
   "source": [
    "second_data = second_data.rename(columns={\"boroname\": \"borough\"})\n",
    "third_data = third_data.rename(columns={\"postcode\": \"zipcode\"})\n",
    "second_data.borough[second_data['borough'] == 5] = 'Staten Island'\n",
    "# TODO have to do spc_latin too"
   ],
   "outputs": [
    {
     "output_type": "stream",
     "name": "stderr",
     "text": [
      "/var/folders/z7/x5j_gv2x6f92wlfl832cwwy80000gn/T/ipykernel_5205/2318802353.py:3: SettingWithCopyWarning: \n",
      "A value is trying to be set on a copy of a slice from a DataFrame\n",
      "\n",
      "See the caveats in the documentation: https://pandas.pydata.org/pandas-docs/stable/user_guide/indexing.html#returning-a-view-versus-a-copy\n",
      "  second_data.borough[second_data['borough'] == 5] = 'Staten Island'\n"
     ]
    }
   ],
   "metadata": {}
  },
  {
   "cell_type": "markdown",
   "source": [
    "# Group trees into geospatial segments that match across datasets"
   ],
   "metadata": {}
  },
  {
   "cell_type": "code",
   "execution_count": 275,
   "source": [
    "# Group trees into geospatial segments by lat and long\n",
    "step = 0.00000001 # This should be about 1/4-1/2 a city block \n",
    "# step = 0.001\n",
    "to_bin = lambda x: np.floor(x / step) * step\n",
    "second_data[\"latBin\"] = to_bin(second_data.latitude)\n",
    "second_data[\"lonBin\"] = to_bin(second_data.longitude)\n",
    "\n",
    "# Drop all rows where lat or long is 0\n",
    "second_data.drop(second_data[second_data['latBin'] == 0].index, inplace = True)\n",
    "second_data.drop(second_data[second_data['lonBin'] == 0].index, inplace = True)\n"
   ],
   "outputs": [],
   "metadata": {}
  },
  {
   "cell_type": "code",
   "execution_count": 276,
   "source": [
    "# Set latBin and lonBin values to match across datasets\n",
    "# Run this once and save output, it takes a while\n",
    "\n",
    "third_data[\"latBin\"] = 0\n",
    "third_data[\"lonBin\"] = 0\n",
    "binValues = sorted(list(dict.fromkeys(list(zip(second_data['latBin'], second_data['lonBin'])))))\n",
    "\n",
    "for latBinValue, lonBinValue in binValues:\n",
    "    third_data.loc[third_data['latitude'] >= latBinValue, ['latBin', 'lonBin']] = latBinValue, lonBinValue\n"
   ],
   "outputs": [],
   "metadata": {}
  },
  {
   "cell_type": "code",
   "execution_count": null,
   "source": [
    "# Save the processed dataframe so we don't have to compute lat and long bins every time\n",
    "third_data.to_csv('../etc/data/2015_data.csv')"
   ],
   "outputs": [],
   "metadata": {}
  },
  {
   "cell_type": "code",
   "execution_count": null,
   "source": [
    "third_data = pd.read_csv('../etc/data/2015_data.csv')\n",
    "third_data.drop(columns=['lonBinValue', 'Unnamed: 0'], inplace = True) # TODO should re-run above and remove the lonBinValue part\n",
    "third_data"
   ],
   "outputs": [],
   "metadata": {}
  },
  {
   "cell_type": "code",
   "execution_count": null,
   "source": [
    "# second_data.sort_values(by='latBin', ascending=False).head(10)"
   ],
   "outputs": [],
   "metadata": {}
  },
  {
   "cell_type": "code",
   "execution_count": null,
   "source": [
    "# third_data.sort_values(by='latBin', ascending=False)\n",
    "# third_data[third_data['latBin'] > 40.912].sort_values(by='latBin', ascending=False)"
   ],
   "outputs": [],
   "metadata": {}
  },
  {
   "cell_type": "code",
   "execution_count": 266,
   "source": [],
   "outputs": [
    {
     "output_type": "execute_result",
     "data": {
      "text/html": [
       "<div>\n",
       "<style scoped>\n",
       "    .dataframe tbody tr th:only-of-type {\n",
       "        vertical-align: middle;\n",
       "    }\n",
       "\n",
       "    .dataframe tbody tr th {\n",
       "        vertical-align: top;\n",
       "    }\n",
       "\n",
       "    .dataframe thead th {\n",
       "        text-align: right;\n",
       "    }\n",
       "</style>\n",
       "<table border=\"1\" class=\"dataframe\">\n",
       "  <thead>\n",
       "    <tr style=\"text-align: right;\">\n",
       "      <th></th>\n",
       "      <th>latitude</th>\n",
       "      <th>longitude</th>\n",
       "      <th>borough</th>\n",
       "      <th>zipcode</th>\n",
       "      <th>spc_latin</th>\n",
       "      <th>tree_dbh</th>\n",
       "      <th>health</th>\n",
       "      <th>health_status</th>\n",
       "      <th>latBin</th>\n",
       "      <th>lonBin</th>\n",
       "    </tr>\n",
       "  </thead>\n",
       "  <tbody>\n",
       "    <tr>\n",
       "      <th>0</th>\n",
       "      <td>40.632653</td>\n",
       "      <td>-74.000245</td>\n",
       "      <td>Brooklyn</td>\n",
       "      <td>11219</td>\n",
       "      <td>PYRUS CALLERYANA</td>\n",
       "      <td>6</td>\n",
       "      <td>Fair</td>\n",
       "      <td>2</td>\n",
       "      <td>40.632653</td>\n",
       "      <td>-74.000245</td>\n",
       "    </tr>\n",
       "    <tr>\n",
       "      <th>1</th>\n",
       "      <td>40.620084</td>\n",
       "      <td>-73.901453</td>\n",
       "      <td>Brooklyn</td>\n",
       "      <td>11234</td>\n",
       "      <td>PLATANUS ACERIFOLIA</td>\n",
       "      <td>6</td>\n",
       "      <td>Fair</td>\n",
       "      <td>2</td>\n",
       "      <td>40.620084</td>\n",
       "      <td>-73.901453</td>\n",
       "    </tr>\n",
       "    <tr>\n",
       "      <th>2</th>\n",
       "      <td>40.617996</td>\n",
       "      <td>-73.899111</td>\n",
       "      <td>Brooklyn</td>\n",
       "      <td>11234</td>\n",
       "      <td>ACER PLATANOIDES          CRIMSON KING</td>\n",
       "      <td>13</td>\n",
       "      <td>Fair</td>\n",
       "      <td>2</td>\n",
       "      <td>40.617996</td>\n",
       "      <td>-73.899111</td>\n",
       "    </tr>\n",
       "    <tr>\n",
       "      <th>4</th>\n",
       "      <td>40.618323</td>\n",
       "      <td>-73.899467</td>\n",
       "      <td>Brooklyn</td>\n",
       "      <td>11234</td>\n",
       "      <td>PLATANUS ACERIFOLIA</td>\n",
       "      <td>15</td>\n",
       "      <td>Fair</td>\n",
       "      <td>2</td>\n",
       "      <td>40.618323</td>\n",
       "      <td>-73.899467</td>\n",
       "    </tr>\n",
       "    <tr>\n",
       "      <th>8</th>\n",
       "      <td>40.618490</td>\n",
       "      <td>-73.915932</td>\n",
       "      <td>Brooklyn</td>\n",
       "      <td>11234</td>\n",
       "      <td>ACER PLATANOIDES          CRIMSON KING</td>\n",
       "      <td>14</td>\n",
       "      <td>Good</td>\n",
       "      <td>3</td>\n",
       "      <td>40.618490</td>\n",
       "      <td>-73.915932</td>\n",
       "    </tr>\n",
       "    <tr>\n",
       "      <th>...</th>\n",
       "      <td>...</td>\n",
       "      <td>...</td>\n",
       "      <td>...</td>\n",
       "      <td>...</td>\n",
       "      <td>...</td>\n",
       "      <td>...</td>\n",
       "      <td>...</td>\n",
       "      <td>...</td>\n",
       "      <td>...</td>\n",
       "      <td>...</td>\n",
       "    </tr>\n",
       "    <tr>\n",
       "      <th>592366</th>\n",
       "      <td>40.586318</td>\n",
       "      <td>-74.148725</td>\n",
       "      <td>Staten Island</td>\n",
       "      <td>10314</td>\n",
       "      <td>PRUNUS SPECIES</td>\n",
       "      <td>9</td>\n",
       "      <td>Fair</td>\n",
       "      <td>2</td>\n",
       "      <td>40.586318</td>\n",
       "      <td>-74.148725</td>\n",
       "    </tr>\n",
       "    <tr>\n",
       "      <th>592368</th>\n",
       "      <td>40.586090</td>\n",
       "      <td>-74.149013</td>\n",
       "      <td>Staten Island</td>\n",
       "      <td>10314</td>\n",
       "      <td>ACER SACCHARINUM</td>\n",
       "      <td>7</td>\n",
       "      <td>Fair</td>\n",
       "      <td>2</td>\n",
       "      <td>40.586090</td>\n",
       "      <td>-74.149013</td>\n",
       "    </tr>\n",
       "    <tr>\n",
       "      <th>592369</th>\n",
       "      <td>40.585802</td>\n",
       "      <td>-74.149156</td>\n",
       "      <td>Staten Island</td>\n",
       "      <td>10314</td>\n",
       "      <td>ACER PLATANOIDES          CRIMSON KING</td>\n",
       "      <td>5</td>\n",
       "      <td>Fair</td>\n",
       "      <td>2</td>\n",
       "      <td>40.585802</td>\n",
       "      <td>-74.149156</td>\n",
       "    </tr>\n",
       "    <tr>\n",
       "      <th>592370</th>\n",
       "      <td>40.585802</td>\n",
       "      <td>-74.149156</td>\n",
       "      <td>Staten Island</td>\n",
       "      <td>10314</td>\n",
       "      <td>ACER PLATANOIDES          CRIMSON KING</td>\n",
       "      <td>9</td>\n",
       "      <td>Fair</td>\n",
       "      <td>2</td>\n",
       "      <td>40.585802</td>\n",
       "      <td>-74.149156</td>\n",
       "    </tr>\n",
       "    <tr>\n",
       "      <th>592371</th>\n",
       "      <td>40.585802</td>\n",
       "      <td>-74.149156</td>\n",
       "      <td>Staten Island</td>\n",
       "      <td>10314</td>\n",
       "      <td>ACER PLATANOIDES          CRIMSON KING</td>\n",
       "      <td>2</td>\n",
       "      <td>Fair</td>\n",
       "      <td>2</td>\n",
       "      <td>40.585802</td>\n",
       "      <td>-74.149156</td>\n",
       "    </tr>\n",
       "  </tbody>\n",
       "</table>\n",
       "<p>366577 rows × 10 columns</p>\n",
       "</div>"
      ],
      "text/plain": [
       "         latitude  longitude        borough  zipcode  \\\n",
       "0       40.632653 -74.000245       Brooklyn    11219   \n",
       "1       40.620084 -73.901453       Brooklyn    11234   \n",
       "2       40.617996 -73.899111       Brooklyn    11234   \n",
       "4       40.618323 -73.899467       Brooklyn    11234   \n",
       "8       40.618490 -73.915932       Brooklyn    11234   \n",
       "...           ...        ...            ...      ...   \n",
       "592366  40.586318 -74.148725  Staten Island    10314   \n",
       "592368  40.586090 -74.149013  Staten Island    10314   \n",
       "592369  40.585802 -74.149156  Staten Island    10314   \n",
       "592370  40.585802 -74.149156  Staten Island    10314   \n",
       "592371  40.585802 -74.149156  Staten Island    10314   \n",
       "\n",
       "                                     spc_latin  tree_dbh health  \\\n",
       "0                             PYRUS CALLERYANA         6   Fair   \n",
       "1                          PLATANUS ACERIFOLIA         6   Fair   \n",
       "2       ACER PLATANOIDES          CRIMSON KING        13   Fair   \n",
       "4                          PLATANUS ACERIFOLIA        15   Fair   \n",
       "8       ACER PLATANOIDES          CRIMSON KING        14   Good   \n",
       "...                                        ...       ...    ...   \n",
       "592366                          PRUNUS SPECIES         9   Fair   \n",
       "592368                        ACER SACCHARINUM         7   Fair   \n",
       "592369  ACER PLATANOIDES          CRIMSON KING         5   Fair   \n",
       "592370  ACER PLATANOIDES          CRIMSON KING         9   Fair   \n",
       "592371  ACER PLATANOIDES          CRIMSON KING         2   Fair   \n",
       "\n",
       "        health_status     latBin     lonBin  \n",
       "0                   2  40.632653 -74.000245  \n",
       "1                   2  40.620084 -73.901453  \n",
       "2                   2  40.617996 -73.899111  \n",
       "4                   2  40.618323 -73.899467  \n",
       "8                   3  40.618490 -73.915932  \n",
       "...               ...        ...        ...  \n",
       "592366              2  40.586318 -74.148725  \n",
       "592368              2  40.586090 -74.149013  \n",
       "592369              2  40.585802 -74.149156  \n",
       "592370              2  40.585802 -74.149156  \n",
       "592371              2  40.585802 -74.149156  \n",
       "\n",
       "[366577 rows x 10 columns]"
      ]
     },
     "metadata": {},
     "execution_count": 266
    }
   ],
   "metadata": {}
  },
  {
   "cell_type": "markdown",
   "source": [],
   "metadata": {}
  },
  {
   "cell_type": "code",
   "execution_count": 321,
   "source": [
    "groups = second_data.groupby([\"latBin\", \"lonBin\"])\n",
    "groups.size().sort_values().value_counts()\n",
    "groups.size().sort_values()\n"
   ],
   "outputs": [
    {
     "output_type": "execute_result",
     "data": {
      "text/plain": [
       "latBin     lonBin    \n",
       "40.680785  -73.769329      1\n",
       "40.685319  -73.985931      1\n",
       "           -73.986897      1\n",
       "40.685322  -73.984845      1\n",
       "           -73.972002      1\n",
       "                        ... \n",
       "40.728994  -74.009677    118\n",
       "40.611362  -74.187978    131\n",
       "40.739677  -73.825351    132\n",
       "40.625613  -74.147311    263\n",
       "40.693685  -73.983339    342\n",
       "Length: 268077, dtype: int64"
      ]
     },
     "metadata": {},
     "execution_count": 321
    }
   ],
   "metadata": {}
  },
  {
   "cell_type": "code",
   "execution_count": null,
   "source": [
    "# Get third data into same lat and long bins as second data\n"
   ],
   "outputs": [],
   "metadata": {}
  }
 ],
 "metadata": {
  "orig_nbformat": 4,
  "language_info": {
   "name": "python",
   "version": "3.9.7",
   "mimetype": "text/x-python",
   "codemirror_mode": {
    "name": "ipython",
    "version": 3
   },
   "pygments_lexer": "ipython3",
   "nbconvert_exporter": "python",
   "file_extension": ".py"
  },
  "kernelspec": {
   "name": "python3",
   "display_name": "Python 3.10.0 64-bit ('climate': conda)"
  },
  "interpreter": {
   "hash": "861821414808db1f617223c6d4569b19cc725b2a2a07694c74cd2c6384ef391b"
  }
 },
 "nbformat": 4,
 "nbformat_minor": 2
}